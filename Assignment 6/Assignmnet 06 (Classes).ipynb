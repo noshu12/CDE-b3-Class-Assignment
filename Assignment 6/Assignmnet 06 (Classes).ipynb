{
  "cells": [
    {
      "cell_type": "markdown",
      "metadata": {
        "id": "XLFr4w_7OFN7"
      },
      "source": [
        "1. Write a Python program to create a class representing a Circle. Include methods to calculate its area and perimeter."
      ]
    },
    {
      "cell_type": "code",
      "execution_count": 4,
      "metadata": {},
      "outputs": [
        {
          "name": "stdout",
          "output_type": "stream",
          "text": [
            "The area of circle is 78.55\n",
            "The perimeter of circle is 31.419999999999998\n"
          ]
        }
      ],
      "source": [
        "# Add your code here\n",
        "class Circle:\n",
        "    pie = 3.142\n",
        "    def __init__(self, radius):\n",
        "        self.radius = radius\n",
        "    def area(self):\n",
        "        return f\"The area of circle is {Circle.pie * (self.radius**2)}\"\n",
        "    def perimeter(self):\n",
        "        ## C = 2 pie r\n",
        "        return f\"The perimeter of circle is {2 * Circle.pie * self.radius}\"\n",
        "       \n",
        "\n",
        "area_obj = Circle(5)\n",
        "print(area_obj.area())\n",
        "print(area_obj.perimeter())"
      ]
    },
    {
      "cell_type": "markdown",
      "metadata": {
        "id": "CBPk4mH4OTCO"
      },
      "source": [
        "2. Write a Python program to create a person class. Include attributes like name, country and date of birth. Implement a method to determine the person's age.\n"
      ]
    },
    {
      "cell_type": "code",
      "execution_count": 1,
      "metadata": {},
      "outputs": [
        {
          "data": {
            "text/plain": [
              "'The name of the person is Noushad Alam, Country is Pakistan and age is 22 '"
            ]
          },
          "execution_count": 1,
          "metadata": {},
          "output_type": "execute_result"
        }
      ],
      "source": [
        "# Add your code here\n",
        "class Person:\n",
        "    def __init__(self, name, country, DoB_yr, current_yr):\n",
        "        self.name = name\n",
        "        self.country = country\n",
        "        self.DoB_yr = DoB_yr\n",
        "        self.current_yr = current_yr\n",
        "    def age(self):\n",
        "        return f\"The name of the person is {self.name}, Country is {self.country} and age is { self.current_yr - self.DoB_yr } \" \n",
        "per_obj = Person(\"Noushad Alam\", \"Pakistan\", 2003, 2025 )   \n",
        "per_obj.age()  "
      ]
    },
    {
      "cell_type": "markdown",
      "metadata": {},
      "source": [
        "3. Write a Python program to create a calculator class. Include methods for basic arithmetic operations."
      ]
    },
    {
      "cell_type": "code",
      "execution_count": 2,
      "metadata": {},
      "outputs": [
        {
          "name": "stdout",
          "output_type": "stream",
          "text": [
            "The sum of two numbers is 60\n",
            "Your subtracted value is -40\n",
            "The multiplication of two numbers is 500\n",
            "The division of two numbers is 0.2\n"
          ]
        }
      ],
      "source": [
        "# Add your code here\n",
        "\n",
        "class Calculator:\n",
        "    def __init__(self, num1 , num2):\n",
        "        self.num1 = num1\n",
        "        self.num2 = num2\n",
        "    def sum(self):\n",
        "        return f\"The sum of two numbers is {self.num1 + self.num2}\" \n",
        "    def sub(self):\n",
        "        return f\"Your subtracted value is {self.num1 - self.num2}\" \n",
        "    def mul(self):\n",
        "        return f\"The multiplication of two numbers is {self.num1 * self.num2}\"  \n",
        "    def div(self):\n",
        "        return f\"The division of two numbers is {self.num1 / self.num2}\" \n",
        "    \n",
        "obj = Calculator(10,50)    \n",
        "print(obj.sum())\n",
        "print(obj.sub())\n",
        "print(obj.mul())\n",
        "print(obj.div())"
      ]
    },
    {
      "cell_type": "code",
      "execution_count": null,
      "metadata": {},
      "outputs": [],
      "source": []
    }
  ],
  "metadata": {
    "colab": {
      "provenance": []
    },
    "kernelspec": {
      "display_name": "Python 3",
      "language": "python",
      "name": "python3"
    },
    "language_info": {
      "codemirror_mode": {
        "name": "ipython",
        "version": 3
      },
      "file_extension": ".py",
      "mimetype": "text/x-python",
      "name": "python",
      "nbconvert_exporter": "python",
      "pygments_lexer": "ipython3",
      "version": "3.13.5"
    }
  },
  "nbformat": 4,
  "nbformat_minor": 0
}
