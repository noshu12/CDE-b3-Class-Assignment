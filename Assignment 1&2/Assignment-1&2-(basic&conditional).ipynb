{
 "cells": [
  {
   "cell_type": "markdown",
   "id": "f0f2927d",
   "metadata": {
    "vscode": {
     "languageId": "raw"
    }
   },
   "source": [
    "1. Print Your Name with your Father name and Date of birth using suitable escape sequence charactor."
   ]
  },
  {
   "cell_type": "code",
   "execution_count": 1,
   "id": "cc924dc4",
   "metadata": {},
   "outputs": [
    {
     "name": "stdout",
     "output_type": "stream",
     "text": [
      "My name is Noushad Alam \n",
      "My father name is Khursheed Alam \n",
      "My date of birth is 8th of September 2003\n"
     ]
    }
   ],
   "source": [
    "## Code\n",
    "print(\"My name is Noushad Alam \\nMy father name is Khursheed Alam \\nMy date of birth is 8th of September 2003\")"
   ]
  },
  {
   "cell_type": "markdown",
   "id": "69c59773",
   "metadata": {},
   "source": [
    "2. Write your small bio using variables and print it using print function"
   ]
  },
  {
   "cell_type": "code",
   "execution_count": 2,
   "id": "4ea14a96",
   "metadata": {},
   "outputs": [
    {
     "name": "stdout",
     "output_type": "stream",
     "text": [
      "Myself Noushad, \n",
      "I am student of FUUAST University department Computer Science and, \n",
      "My discipline is BSSE\n"
     ]
    }
   ],
   "source": [
    "## Code \n",
    "name = \"Noushad\"\n",
    "education = \"student of FUUAST University department Computer Science\"\n",
    "discipline = \"BSSE\"\n",
    "print(f\"Myself {name}, \\nI am {education} and, \\nMy discipline is {discipline}\")\n"
   ]
  },
  {
   "cell_type": "markdown",
   "id": "43b26720",
   "metadata": {},
   "source": [
    "3. Write a program in which use all the operators we can use in Python "
   ]
  },
  {
   "cell_type": "code",
   "execution_count": null,
   "id": "d06d2225",
   "metadata": {},
   "outputs": [
    {
     "name": "stdout",
     "output_type": "stream",
     "text": [
      "Addition of two numbers is 3. \n",
      "Subtraction of two numbers is 2. \n",
      "Multiplication of two numbers is 15.\n",
      "Division of two numbers is 2.0. \n",
      "Exponential of two numbers is 8. \n",
      "Reminder of two numbers is 1.\n"
     ]
    }
   ],
   "source": [
    "## Code\n",
    "add = 1+2\n",
    "sub = 3-1\n",
    "mul = 5*3\n",
    "div = 10/5\n",
    "exp = 2**3\n",
    "rem = 5%2\n",
    "print(f\"Addition of two numbers is {add}. \\nSubtraction of two numbers is {sub}. \\nMultiplication of two numbers is {mul}.\\nDivision of two numbers is {div}. \\nExponential of two numbers is {exp}. \\nReminder of two numbers is {rem}.\")"
   ]
  },
  {
   "cell_type": "markdown",
   "id": "7c7b5d9d",
   "metadata": {},
   "source": [
    "4. Completes the following steps of small task:\n",
    "    Mention Marks of English , Islamiat and Maths out of 100 in 3 different variables\n",
    "    Mention Variable of Total Marks and assign 300 to it\n",
    "    Calculate Percentage"
   ]
  },
  {
   "cell_type": "code",
   "execution_count": 15,
   "id": "3534a1d9",
   "metadata": {},
   "outputs": [
    {
     "name": "stdout",
     "output_type": "stream",
     "text": [
      "81.66666666666667\n"
     ]
    }
   ],
   "source": [
    "## Code \n",
    "eng = 82\n",
    "isl = 76\n",
    "maths = 87\n",
    "total = 300\n",
    "percentage = (eng+isl+maths)*100/300\n",
    "\n",
    "print(percentage)"
   ]
  },
  {
   "cell_type": "markdown",
   "id": "151cab84",
   "metadata": {},
   "source": [
    "1. A company decided to give bonus of 5% to employee if his/her year of service is more than 5 years. Ask user for their salary and year of service and print the net bonus amount."
   ]
  },
  {
   "cell_type": "code",
   "execution_count": 24,
   "id": "9d75bf14",
   "metadata": {},
   "outputs": [
    {
     "name": "stdout",
     "output_type": "stream",
     "text": [
      "Your net bonus amount is 24000.0 \n"
     ]
    }
   ],
   "source": [
    "## Code \n",
    "service = int(input(\"What is your year of service ?\"))\n",
    "if service >= 5:\n",
    "    salary = int(input(\"Enter your Salary\"))\n",
    "    netBonus = salary * 0.05 * service\n",
    "    print(f\"Your net bonus amount is {netBonus} \")\n",
    "else:\n",
    " print(\"Your years of service is not matched with our policy\")\n",
    "\n"
   ]
  },
  {
   "cell_type": "markdown",
   "id": "3de6a4b0",
   "metadata": {},
   "source": [
    "2. Write a program to check whether a person is eligible for voting or not. (accept age from user) if age is greater than 17 eligible otherwise not eligible."
   ]
  },
  {
   "cell_type": "code",
   "execution_count": null,
   "id": "ec57e67b",
   "metadata": {},
   "outputs": [
    {
     "name": "stdout",
     "output_type": "stream",
     "text": [
      "You are not eligible\n"
     ]
    }
   ],
   "source": [
    "## Code\n",
    "age = int(input(\"Enter your age\"))\n",
    "if age>=17:\n",
    "    print(\"Congrts ! \\nYou can vote\")\n",
    "else:\n",
    "    print(\"You are not eligible\")    "
   ]
  },
  {
   "cell_type": "markdown",
   "id": "16648ef1",
   "metadata": {},
   "source": [
    "3. Write a program to check whether a number entered by user is even or odd."
   ]
  },
  {
   "cell_type": "code",
   "execution_count": null,
   "id": "62e58c0f",
   "metadata": {},
   "outputs": [
    {
     "name": "stdout",
     "output_type": "stream",
     "text": [
      "Number is Odd\n"
     ]
    }
   ],
   "source": [
    "## Code\n",
    "number = int(input(\"Enter number\"))\n",
    "if number%2 ==0:\n",
    "    print(\"Number is Even\")\n",
    "else:\n",
    "     print(\"Number is Odd\")\n"
   ]
  },
  {
   "cell_type": "markdown",
   "id": "f94e7ca8",
   "metadata": {},
   "source": [
    "4. Write a program to check whether a number is divisible by 7 or not. Show Answer"
   ]
  },
  {
   "cell_type": "code",
   "execution_count": null,
   "id": "01ca0450",
   "metadata": {},
   "outputs": [
    {
     "name": "stdout",
     "output_type": "stream",
     "text": [
      "Not divisible by 7\n"
     ]
    }
   ],
   "source": [
    "## Code\n",
    "number = int(input(\"Enter number\"))\n",
    "if number%7 ==0:\n",
    "    print(\"Divisible by 7\")\n",
    "else:\n",
    "     print(\"Not divisible by 7\")"
   ]
  },
  {
   "cell_type": "markdown",
   "id": "8dba132f",
   "metadata": {},
   "source": [
    "5. Write a program to display \"Hello\" if a number entered by user is a multiple of five , otherwise print \"Bye\"."
   ]
  },
  {
   "cell_type": "code",
   "execution_count": 32,
   "id": "58d3136b",
   "metadata": {},
   "outputs": [
    {
     "name": "stdout",
     "output_type": "stream",
     "text": [
      "Number is not multiple of 5\n"
     ]
    }
   ],
   "source": [
    "## Code \n",
    "number = int(input(\"Enter number\"))\n",
    "if number%5 ==0:\n",
    "    print(\"Number is multiple of 5\")\n",
    "else:\n",
    "     print(\"Number is not multiple of 5\")"
   ]
  },
  {
   "cell_type": "markdown",
   "id": "8dfe208a",
   "metadata": {},
   "source": [
    "6. Write a program to display the last digit of a number."
   ]
  },
  {
   "cell_type": "code",
   "execution_count": 42,
   "id": "26c95d55",
   "metadata": {},
   "outputs": [
    {
     "name": "stdout",
     "output_type": "stream",
     "text": [
      "1\n"
     ]
    }
   ],
   "source": [
    "## Code \n",
    "number = int(input(\"Enter your number\"))\n",
    "last_digit = number % 10\n",
    "print(last_digit)\n"
   ]
  },
  {
   "cell_type": "markdown",
   "id": "80bda4c1",
   "metadata": {},
   "source": [
    "7. Take values of length and breadth of a rectangle from user and print if it is square or rectangle."
   ]
  },
  {
   "cell_type": "code",
   "execution_count": 44,
   "id": "fffd61a2",
   "metadata": {},
   "outputs": [
    {
     "name": "stdout",
     "output_type": "stream",
     "text": [
      "The shape is rectangle\n"
     ]
    }
   ],
   "source": [
    "# Code\n",
    "length = int(input(\"Enter length\"))\n",
    "breadth = int(input(\"Enter breadth\"))\n",
    "if length == breadth:\n",
    "    print(\"The shape is sqaure\")\n",
    "else:\n",
    "    print(\"The shape is rectangle\")    "
   ]
  },
  {
   "cell_type": "markdown",
   "id": "5026fa11",
   "metadata": {},
   "source": [
    "8. Take two int values from user and print greatest among them."
   ]
  },
  {
   "cell_type": "code",
   "execution_count": 3,
   "id": "4eafe782",
   "metadata": {},
   "outputs": [
    {
     "name": "stdout",
     "output_type": "stream",
     "text": [
      "The greatest number between two values is 33\n"
     ]
    }
   ],
   "source": [
    "## Code \n",
    "val1 = int(input(\"Enter number 1\"))\n",
    "val2 = int(input(\"Enter number 2\"))\n",
    "if val1>val2:\n",
    "    print(f\"The greatest betwwen two values is {val1}\")\n",
    "else:\n",
    "    print(f\"The greatest number between two values is {val2}\")   "
   ]
  },
  {
   "cell_type": "markdown",
   "id": "bf971b95",
   "metadata": {},
   "source": [
    "9. A shop will give discount of 10% if the cost of purchased quantity is more than 1000. Ask user for quantity Suppose, one unit will cost 100. Judge and print total cost for user."
   ]
  },
  {
   "cell_type": "code",
   "execution_count": 9,
   "id": "bae04233",
   "metadata": {},
   "outputs": [
    {
     "name": "stdout",
     "output_type": "stream",
     "text": [
      "Congrats you have got the 10% off \n",
      "Your Original price is 1300 \n",
      "Your Discounted price is 1299.99\n"
     ]
    }
   ],
   "source": [
    "quantity = int(input(\"Enter your quantity\"))\n",
    "oneUnit = 100\n",
    "total = quantity * oneUnit\n",
    "if total > 1000:\n",
    "    totalPrice = total - 0.01\n",
    "    print(f\"Congrats you have got the 10% off \\nYour Original price is {total} \\nYour Discounted price is {totalPrice}\")\n",
    "else :\n",
    "    print(f\"total amount {total}\")\n",
    "\n",
    "\n"
   ]
  },
  {
   "cell_type": "markdown",
   "id": "7a158f6c",
   "metadata": {},
   "source": [
    "10. A school has following rules for grading system:\n",
    "a. Below 25 - F\n",
    "b. 25 to 45 - E\n",
    "c. 45 to 50 - D\n",
    "d. 50 to 60 - C\n",
    "e. 60 to 80 - B\n",
    "f. Above 80 - A\n",
    "Ask user to enter marks and print the corresponding grade."
   ]
  },
  {
   "cell_type": "code",
   "execution_count": 11,
   "id": "cffe3411",
   "metadata": {},
   "outputs": [
    {
     "name": "stdout",
     "output_type": "stream",
     "text": [
      "Invalid input\n"
     ]
    }
   ],
   "source": [
    "marks = int(input(\"Enter your marks\"))\n",
    "if marks < 25:\n",
    "    print(\"Your grade is F\")\n",
    "elif marks >= 25 and marks < 45:\n",
    "    print(\"Your grade is E\")  \n",
    "elif marks >= 45 and marks < 50:\n",
    "    print(\"Your grade is D\")  \n",
    "elif marks >= 50 and marks < 60:\n",
    "    print(\"Your grade is C\")  \n",
    "elif marks >= 60 and marks < 80:\n",
    "    print(\"Your grade is B\")  \n",
    "elif marks >= 80 and marks <= 100:\n",
    "    print(\"Your grade is A\")\n",
    "else:\n",
    "    print(\"Invalid input\")                  "
   ]
  },
  {
   "cell_type": "markdown",
   "id": "c191ed38",
   "metadata": {},
   "source": [
    "11. A student will not be allowed to sit in exam if his/her attendence is less than 75%.\n",
    "    Take following input from user\n",
    "        Number of classes held\n",
    "        Number of classes attended.\n",
    "        And print\n",
    "        percentage of class attended\n",
    "        Is student is allowed to sit in exam or not."
   ]
  },
  {
   "cell_type": "code",
   "execution_count": 14,
   "id": "bd358a0c",
   "metadata": {},
   "outputs": [
    {
     "name": "stdout",
     "output_type": "stream",
     "text": [
      "Your attendance is below 75%. \n",
      "Sorry you are not allowed to sit in the exam\n"
     ]
    }
   ],
   "source": [
    "classesHeld = int(input(\"Enter number of classes held \"))\n",
    "classesAttend = int(input(\"Enter number of classes attended\"))\n",
    "\n",
    "percentageOfClassesAttended = ( classesAttend / classesHeld ) * 100\n",
    "if percentageOfClassesAttended >=75:\n",
    "    print(f\"Your attendance is {percentageOfClassesAttended}%. \\nSo you are allowed to sit in the exam\")\n",
    "else:\n",
    "    print(\"Your attendance is below 75%. \\nSorry you are not allowed to sit in the exam\")    \n",
    "\n"
   ]
  },
  {
   "cell_type": "markdown",
   "id": "f5282bcb",
   "metadata": {},
   "source": [
    "12.  Modify the above question to allow student to sit if he/she has medical cause. Ask user if he/she has medical cause or not ( 'Y' or 'N' ) and print accordingly."
   ]
  },
  {
   "cell_type": "code",
   "execution_count": 17,
   "id": "a96630f6",
   "metadata": {},
   "outputs": [
    {
     "name": "stdout",
     "output_type": "stream",
     "text": [
      "Your attendance is below 75%. \n",
      "Sorry you are not allowed to sit in the exam\n",
      "You can sit incase of medical cause \n"
     ]
    }
   ],
   "source": [
    "classesHeld = int(input(\"Enter number of classes held \"))\n",
    "classesAttend = int(input(\"Enter number of classes attended\"))\n",
    "\n",
    "percentageOfClassesAttended = ( classesAttend / classesHeld ) * 100\n",
    "if percentageOfClassesAttended >=75:\n",
    "    print(f\"Your attendance is {percentageOfClassesAttended}%. \\nSo you are allowed to sit in the exam\")\n",
    "else:\n",
    "    print(\"Your attendance is below 75%. \\nSorry you are not allowed to sit in the exam\")  \n",
    "    medicalCase = input(\"Incase any medical emergency press Y for yes or N for No\").lower()\n",
    "    if medicalCase == \"y\":\n",
    "        print(\"You can sit incase of medical cause \")\n",
    "    else:\n",
    "        print(\"You have no chance to sit in the exam\")    \n",
    "\n"
   ]
  },
  {
   "cell_type": "markdown",
   "id": "5fbd02f6",
   "metadata": {},
   "source": [
    "13. Write a program to check if a year is leap year or not.\n",
    "If a year is divisible by 4 then it is leap year but if the year is century year like 2000, 1900, 2100 then it must be divisible by 400."
   ]
  },
  {
   "cell_type": "code",
   "execution_count": null,
   "id": "3387d386",
   "metadata": {},
   "outputs": [
    {
     "name": "stdout",
     "output_type": "stream",
     "text": [
      "The year is not leap\n"
     ]
    }
   ],
   "source": [
    "## Code\n",
    "\n",
    "leapYear = int(input(\"Enter year to check it is leap or not\"))\n",
    "if leapYear<=2000 and leapYear%400 ==0:\n",
    "    print(\"The year is leap\")\n",
    "elif leapYear > 2000 and leapYear%4==0:\n",
    "    print(\"The year is leap\")\n",
    "else:\n",
    "    print(\"The year is not leap\")    \n",
    "\n",
    "\n",
    "    \n"
   ]
  },
  {
   "cell_type": "markdown",
   "id": "bb0c0076",
   "metadata": {},
   "source": [
    "14. Ask user to enter age, gender ( M or F ), marital status ( Y or N ) and then using following rules print their place of service.\n",
    "if employee is female, then she will work only in urban areas.\n",
    "if employee is a male and age is in between 20 to 40 then he may work in anywhere\n",
    "if employee is male and age is in between 40 t0 60 then he will work in urban areas only.\n",
    "And any other input of age should print \"ERROR\""
   ]
  },
  {
   "cell_type": "code",
   "execution_count": 26,
   "id": "63e6cf5d",
   "metadata": {},
   "outputs": [
    {
     "name": "stdout",
     "output_type": "stream",
     "text": [
      "ERROR\n"
     ]
    }
   ],
   "source": [
    "age = int(input(\"Enter your age\"))\n",
    "gender = input(\"Select your gender M or F\").lower()\n",
    "martialStatus = input(\"Married ? Y or N\")\n",
    "if gender == \"F\":\n",
    "    print(\"You can only work in only urban areas\")\n",
    "elif gender == \"M\" and age >= 20 or age < 40:\n",
    "    print(\"You can work anywhere\")  \n",
    "elif gender == \"M\" and age >= 40 or age < 60:\n",
    "    print(\"You can work only in urban areas\") \n",
    "else:\n",
    "    print(\"ERROR\")    \n"
   ]
  },
  {
   "cell_type": "markdown",
   "id": "ea54bdbf",
   "metadata": {},
   "source": [
    "15. Write a program to calculate the electricity bill (accept number of unit from user) according to the following criteria : Unit Price\n",
    "upto 100 units no charge Next 200 units Rs 5 per unit After 200 units Rs 10 per unit\n",
    "For example if input unit is 350 than total bill amount is Rs.3500 \n",
    "For example if input unit is 97 than total bill amount is Rs.0\n",
    "For example if input unit is 150 than total bill amount is Rs.750"
   ]
  },
  {
   "cell_type": "code",
   "execution_count": 29,
   "id": "d145a1f6",
   "metadata": {},
   "outputs": [
    {
     "name": "stdout",
     "output_type": "stream",
     "text": [
      "No charges\n"
     ]
    }
   ],
   "source": [
    "unit = int(input(\"Enter your unit\"))\n",
    "if unit <=100:\n",
    "    print(\"No charges\")\n",
    "elif unit >= 100  and unit < 200:\n",
    "    print(f\"Total bill is {unit*5}\")\n",
    "elif unit >= 200:\n",
    "    print(f\"Total bill is {unit*10}\")   \n",
    "\n"
   ]
  },
  {
   "cell_type": "markdown",
   "id": "78ebf272",
   "metadata": {},
   "source": [
    "16. Take input of age of 3 people by user and determine oldest and youngest among them."
   ]
  },
  {
   "cell_type": "code",
   "execution_count": 30,
   "id": "507308f8",
   "metadata": {},
   "outputs": [
    {
     "name": "stdout",
     "output_type": "stream",
     "text": [
      "The oldest age is: 45\n",
      "The youngest age is: 12\n"
     ]
    }
   ],
   "source": [
    "person1 = int(input(\"Enter your age\"))\n",
    "person2 = int(input(\"Enter your age\"))\n",
    "person3 = int(input(\"Enter your age\"))\n",
    "oldest = max(person1, person2, person3)\n",
    "youngest = min(person1, person2, person3)\n",
    "\n",
    "print(f\"The oldest age is: {oldest}\")\n",
    "print(f\"The youngest age is: {youngest}\")\n",
    "\n"
   ]
  },
  {
   "cell_type": "code",
   "execution_count": null,
   "id": "92cde307",
   "metadata": {},
   "outputs": [],
   "source": []
  }
 ],
 "metadata": {
  "kernelspec": {
   "display_name": "Python 3",
   "language": "python",
   "name": "python3"
  },
  "language_info": {
   "codemirror_mode": {
    "name": "ipython",
    "version": 3
   },
   "file_extension": ".py",
   "mimetype": "text/x-python",
   "name": "python",
   "nbconvert_exporter": "python",
   "pygments_lexer": "ipython3",
   "version": "3.13.5"
  }
 },
 "nbformat": 4,
 "nbformat_minor": 5
}
