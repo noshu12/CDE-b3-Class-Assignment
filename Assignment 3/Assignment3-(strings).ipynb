{
 "cells": [
  {
   "cell_type": "code",
   "execution_count": 1,
   "id": "a53a7d1f",
   "metadata": {},
   "outputs": [
    {
     "name": "stdout",
     "output_type": "stream",
     "text": [
      "Number of vowels: 1\n"
     ]
    }
   ],
   "source": [
    "## Question 1\n",
    "text = input(\"Enter word\")\n",
    "def count_vowels(s):\n",
    "  \n",
    "    vowels = 'aeiou'\n",
    "    s = s.lower()\n",
    "    return sum(s.count(v) for v in vowels)\n",
    "print(\"Number of vowels:\", count_vowels(text))"
   ]
  },
  {
   "cell_type": "markdown",
   "id": "ddea4d90",
   "metadata": {},
   "source": []
  },
  {
   "cell_type": "code",
   "execution_count": 2,
   "id": "478619f7",
   "metadata": {},
   "outputs": [
    {
     "name": "stdout",
     "output_type": "stream",
     "text": [
      "Uppercase letters: 0\n",
      "Lowercase letters: 21\n",
      "Digits: 0\n",
      "Whitespace characters: 3\n"
     ]
    }
   ],
   "source": [
    "## Question 2\n",
    "s = input(\"Enter a string: \")\n",
    "upper = 0\n",
    "lower = 0\n",
    "digits = 0\n",
    "whitespaces = 0\n",
    "for charachter in s:\n",
    "    if charachter.isupper():\n",
    "        upper += 1\n",
    "    elif charachter.islower():\n",
    "        lower += 1\n",
    "    elif charachter.isdigit():\n",
    "        digits += 1\n",
    "    elif charachter.isspace():\n",
    "        whitespaces += 1\n",
    "\n",
    "print(\"Uppercase letters:\", upper)\n",
    "print(\"Lowercase letters:\", lower)\n",
    "print(\"Digits:\", digits)\n",
    "print(\"Whitespace characters:\", whitespaces)\n"
   ]
  },
  {
   "cell_type": "code",
   "execution_count": 4,
   "id": "cfe97df8",
   "metadata": {},
   "outputs": [
    {
     "name": "stdout",
     "output_type": "stream",
     "text": [
      "New string: a\n"
     ]
    }
   ],
   "source": [
    "## Question 3\n",
    "\n",
    "s = input(\"Enter a string: \")\n",
    "if len(s) <= 1:\n",
    "    new_s = s\n",
    "else:\n",
    "    new_s = s[-1] + s[1:-1] + s[0]\n",
    "print(\"New string:\", new_s)\n",
    "\n"
   ]
  },
  {
   "cell_type": "code",
   "execution_count": 5,
   "id": "c0a10135",
   "metadata": {},
   "outputs": [
    {
     "name": "stdout",
     "output_type": "stream",
     "text": [
      "Reversed string: hkiehs mahra\n"
     ]
    }
   ],
   "source": [
    "## Question 4\n",
    "word = input(\"Enter a string: \")\n",
    "reversed_s = word[::-1]\n",
    "print(\"Reversed string:\", reversed_s)\n"
   ]
  },
  {
   "cell_type": "code",
   "execution_count": 6,
   "id": "4bcf73ba",
   "metadata": {},
   "outputs": [
    {
     "name": "stdout",
     "output_type": "stream",
     "text": [
      "Shifted string: rhama\n"
     ]
    }
   ],
   "source": [
    "## Question 5\n",
    "s = input(\"Enter a string: \")\n",
    "if len(s) <= 1:\n",
    "    shifted = s\n",
    "else:\n",
    "    shifted = s[1:] + s[0]\n",
    "print(\"Shifted string:\", shifted)\n"
   ]
  },
  {
   "cell_type": "code",
   "execution_count": 7,
   "id": "fa598106",
   "metadata": {},
   "outputs": [
    {
     "name": "stdout",
     "output_type": "stream",
     "text": [
      "Initials: AUHS\n"
     ]
    }
   ],
   "source": [
    "## Question 6\n",
    "\n",
    "full_name = input(\"Enter your full name (First Middle Last): \")\n",
    "initials = \"\"  #  first letter\n",
    "is_word_start = True    ## check word start or not\n",
    "for ch in full_name:\n",
    "    if ch != ' ' and is_word_start:  ##check there is no space & is new word start\n",
    "        initials += ch.upper()   ## word turn to upper case \n",
    "        is_word_start = False    ## after accepting 1 letter all is false \n",
    "    elif ch == ' ':\n",
    "        is_word_start = True  ## again true for new 1 character acceptance.\n",
    "\n",
    "print(\"Initials:\", initials)\n"
   ]
  },
  {
   "cell_type": "code",
   "execution_count": null,
   "id": "93ac4c93",
   "metadata": {},
   "outputs": [
    {
     "name": "stdout",
     "output_type": "stream",
     "text": [
      "The word is palindrome\n"
     ]
    }
   ],
   "source": [
    "## Question 7\n",
    "\n",
    "word = input(\"Enter a word\") \n",
    "if word == word[::-1]:\n",
    "    print(\"The given word is palindrome\")\n",
    "else:\n",
    "    print(\"The given word is not palindrome\")"
   ]
  },
  {
   "cell_type": "code",
   "execution_count": null,
   "id": "4bcceffe",
   "metadata": {},
   "outputs": [
    {
     "name": "stdout",
     "output_type": "stream",
     "text": [
      "Original string noushu \n",
      "Iteration 1: oushun\n",
      "Iteration 2: ushuno\n",
      "Iteration 3: shunou\n",
      "Iteration 4: hunous\n",
      "Iteration 5: unoush\n",
      "Iteration 6: noushu\n",
      "\n",
      "String returned to original after 6 iterations.\n"
     ]
    }
   ],
   "source": [
    "## Question 8\n",
    "\n",
    "original = input(\"Enter a string: \")\n",
    "current = original\n",
    "count = 0\n",
    "print(f\"Original string {original} \")\n",
    "while True:\n",
    "    current = current[1:] + current[0]  # Left shift\n",
    "    count += 1\n",
    "    print(f\"Iteration {count}: {current}\")\n",
    "    if current == original:\n",
    "        print(f\"\\nString returned to original after {count} iterations.\")\n",
    "        break\n"
   ]
  },
  {
   "cell_type": "code",
   "execution_count": 12,
   "id": "01e1ce78",
   "metadata": {},
   "outputs": [
    {
     "name": "stdout",
     "output_type": "stream",
     "text": [
      "Password set successfully!\n"
     ]
    }
   ],
   "source": [
    "## Question 9\n",
    "\n",
    "password = input(\"Set your password: \")\n",
    "if len(password) < 8:\n",
    "    print(\"Password must be at least 8 characters.\")\n",
    "else:                     ## Each condition kept false to check is it valid or not\n",
    "    has_upper = False\n",
    "    has_lower = False\n",
    "    has_digit = False\n",
    "\n",
    "    for ch in password:  ## checking each condition\n",
    "        if ch.isupper():\n",
    "            has_upper = True\n",
    "        elif ch.islower():\n",
    "            has_lower = True\n",
    "        elif ch.isdigit():\n",
    "            has_digit = True\n",
    "\n",
    "    if has_upper and has_lower and has_digit:\n",
    "        print(\"Password set successfully!\")\n",
    "    else:\n",
    "        print(\"Password must contain at least one uppercase letter, one lowercase letter, and one digit.\")\n"
   ]
  },
  {
   "cell_type": "code",
   "execution_count": null,
   "id": "22962f33",
   "metadata": {},
   "outputs": [],
   "source": []
  }
 ],
 "metadata": {
  "kernelspec": {
   "display_name": "base",
   "language": "python",
   "name": "python3"
  },
  "language_info": {
   "codemirror_mode": {
    "name": "ipython",
    "version": 3
   },
   "file_extension": ".py",
   "mimetype": "text/x-python",
   "name": "python",
   "nbconvert_exporter": "python",
   "pygments_lexer": "ipython3",
   "version": "3.13.5"
  }
 },
 "nbformat": 4,
 "nbformat_minor": 5
}
