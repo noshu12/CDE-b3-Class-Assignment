{
 "cells": [
  {
   "cell_type": "markdown",
   "id": "f97dcb2d",
   "metadata": {
    "vscode": {
     "languageId": "plaintext"
    }
   },
   "source": [
    "1. Write a Python program to print the numbers from 1 to 10 using a for loop.  "
   ]
  },
  {
   "cell_type": "code",
   "execution_count": 1,
   "id": "943a10fd",
   "metadata": {},
   "outputs": [
    {
     "name": "stdout",
     "output_type": "stream",
     "text": [
      "1\n",
      "2\n",
      "3\n",
      "4\n",
      "5\n",
      "6\n",
      "7\n",
      "8\n",
      "9\n",
      "10\n"
     ]
    }
   ],
   "source": [
    "for i in range(1,11):\n",
    "    print(i)"
   ]
  },
  {
   "cell_type": "markdown",
   "id": "535f5313",
   "metadata": {},
   "source": [
    "2. Write a Python program to print the numbers from 20 to 1 using a while loop. "
   ]
  },
  {
   "cell_type": "code",
   "execution_count": 2,
   "id": "caab7986",
   "metadata": {},
   "outputs": [
    {
     "name": "stdout",
     "output_type": "stream",
     "text": [
      "20\n",
      "19\n",
      "18\n",
      "17\n",
      "16\n",
      "15\n",
      "14\n",
      "13\n",
      "12\n",
      "11\n",
      "10\n",
      "9\n",
      "8\n",
      "7\n",
      "6\n",
      "5\n",
      "4\n",
      "3\n",
      "2\n",
      "1\n"
     ]
    }
   ],
   "source": [
    "## Code\n",
    "k = 20\n",
    "while k > 0:\n",
    "    print(k)\n",
    "    k -= 1\n"
   ]
  },
  {
   "cell_type": "markdown",
   "id": "f8543102",
   "metadata": {},
   "source": [
    "3. Write a program to print even numbers from 1 to 10.   "
   ]
  },
  {
   "cell_type": "code",
   "execution_count": 3,
   "id": "5f790971",
   "metadata": {},
   "outputs": [
    {
     "name": "stdout",
     "output_type": "stream",
     "text": [
      "2\n",
      "4\n",
      "6\n",
      "8\n",
      "10\n"
     ]
    }
   ],
   "source": [
    "## Code \n",
    "for j in range(1,11):\n",
    "    if j%2 == 0:\n",
    "        print(j)"
   ]
  },
  {
   "cell_type": "markdown",
   "id": "fd2da812",
   "metadata": {},
   "source": [
    "4. Write a program that prompts the user to enter a number n and prints all the \n",
    "numbers from 1 to n.   "
   ]
  },
  {
   "cell_type": "code",
   "execution_count": 4,
   "id": "77b6b3af",
   "metadata": {},
   "outputs": [
    {
     "name": "stdout",
     "output_type": "stream",
     "text": [
      "1\n",
      "2\n",
      "3\n"
     ]
    }
   ],
   "source": [
    "## Code\n",
    "user = int(input(\"Enter a number you want to print the n'th term: \"))\n",
    "for l in range(1,user+1):\n",
    "    print(l)"
   ]
  },
  {
   "cell_type": "markdown",
   "id": "9cb0f6ad",
   "metadata": {},
   "source": [
    "5.  Write a program that prompts the user to enter a number n, and then prints all the odd numbers between 1 and n.   "
   ]
  },
  {
   "cell_type": "code",
   "execution_count": 5,
   "id": "ba269756",
   "metadata": {},
   "outputs": [
    {
     "name": "stdout",
     "output_type": "stream",
     "text": [
      "1\n",
      "3\n",
      "5\n",
      "7\n",
      "9\n",
      "11\n",
      "13\n",
      "15\n",
      "17\n",
      "19\n",
      "21\n",
      "23\n",
      "25\n",
      "27\n",
      "29\n",
      "31\n",
      "33\n",
      "35\n",
      "37\n",
      "39\n",
      "41\n",
      "43\n",
      "45\n"
     ]
    }
   ],
   "source": [
    "user1 = int(input(\"Enter a number you want to print the n'th term: \"))\n",
    "for m in range(1, user1+1 ):\n",
    "    if m%2 != 0:\n",
    "        print(m)"
   ]
  },
  {
   "cell_type": "markdown",
   "id": "150f17b7",
   "metadata": {},
   "source": [
    "6.  Write a program that prints 'Happy Birthday!' five times on screen. "
   ]
  },
  {
   "cell_type": "code",
   "execution_count": 6,
   "id": "b5f45bbd",
   "metadata": {},
   "outputs": [
    {
     "name": "stdout",
     "output_type": "stream",
     "text": [
      "HAPPY BIRTHDAY\n",
      "HAPPY BIRTHDAY\n",
      "HAPPY BIRTHDAY\n",
      "HAPPY BIRTHDAY\n",
      "HAPPY BIRTHDAY\n"
     ]
    }
   ],
   "source": [
    "## Code \n",
    "for i in range(0,5):\n",
    "    print(\"HAPPY BIRTHDAY\")"
   ]
  },
  {
   "cell_type": "markdown",
   "id": "91de1418",
   "metadata": {},
   "source": [
    "7.  Write a program that takes a number n as input from the user and generates the first \n",
    "n terms of the series formed by squaring the natural numbers."
   ]
  },
  {
   "cell_type": "code",
   "execution_count": 7,
   "id": "97ea4349",
   "metadata": {},
   "outputs": [
    {
     "name": "stdout",
     "output_type": "stream",
     "text": [
      "The first 33 term of the series are as follow: \n",
      "1\n",
      "4\n",
      "9\n",
      "16\n",
      "25\n",
      "36\n",
      "49\n",
      "64\n",
      "81\n",
      "100\n",
      "121\n",
      "144\n",
      "169\n",
      "196\n",
      "225\n",
      "256\n",
      "289\n",
      "324\n",
      "361\n",
      "400\n",
      "441\n",
      "484\n",
      "529\n",
      "576\n",
      "625\n",
      "676\n",
      "729\n",
      "784\n",
      "841\n",
      "900\n",
      "961\n",
      "1024\n",
      "1089\n"
     ]
    }
   ],
   "source": [
    "n = int(input(\"Enter a number\"))\n",
    "print(f\"The first {n} term of the series are as follow: \")\n",
    "for i in range(1, n+1):\n",
    "    i = i*i\n",
    "    print(i)"
   ]
  },
  {
   "cell_type": "markdown",
   "id": "c647bcfb",
   "metadata": {},
   "source": [
    "8 . . Write a program that prompts the user to input a number and prints its multiplication \n",
    "table.  "
   ]
  },
  {
   "cell_type": "code",
   "execution_count": 8,
   "id": "5dce1b5d",
   "metadata": {},
   "outputs": [
    {
     "name": "stdout",
     "output_type": "stream",
     "text": [
      "3 * 1 = 3\n",
      "3 * 2 = 6\n",
      "3 * 3 = 9\n",
      "3 * 4 = 12\n",
      "3 * 5 = 15\n",
      "3 * 6 = 18\n",
      "3 * 7 = 21\n",
      "3 * 8 = 24\n",
      "3 * 9 = 27\n",
      "3 * 10 = 30\n",
      "3 * 11 = 33\n",
      "3 * 12 = 36\n",
      "3 * 13 = 39\n",
      "3 * 14 = 42\n",
      "3 * 15 = 45\n",
      "3 * 16 = 48\n",
      "3 * 17 = 51\n",
      "3 * 18 = 54\n"
     ]
    }
   ],
   "source": [
    "## Code\n",
    "n = int(input(\"Give a number for multiplication table: \"))\n",
    "times = int(input(\"how many times do you want to print \"))\n",
    "for i in range (1, times+1):\n",
    "    z = n*i\n",
    "    print(f\"{n} * {i} = {z}\")"
   ]
  },
  {
   "cell_type": "markdown",
   "id": "d5877434",
   "metadata": {},
   "source": [
    "9.  Write a Python program to print the first 8 terms of an arithmetic progression starting \n",
    "with 3 and having a common difference of 4. \n",
    "The program should output the following sequence: \n",
    "3 7 11 15 19 23 27 31 "
   ]
  },
  {
   "cell_type": "code",
   "execution_count": 11,
   "id": "4c1eb894",
   "metadata": {},
   "outputs": [
    {
     "name": "stdout",
     "output_type": "stream",
     "text": [
      "2 * 1 = 2\n",
      "2 * 2 = 4\n",
      "2 * 3 = 6\n",
      "2 * 4 = 8\n",
      "2 * 5 = 10\n",
      "2 * 6 = 12\n",
      "------\n",
      "3 * 1 = 3\n",
      "3 * 2 = 6\n",
      "3 * 3 = 9\n",
      "3 * 4 = 12\n",
      "3 * 5 = 15\n",
      "------\n",
      "4 * 1 = 4\n",
      "4 * 2 = 8\n",
      "4 * 3 = 12\n",
      "4 * 4 = 16\n",
      "------\n",
      "5 * 1 = 5\n",
      "5 * 2 = 10\n",
      "5 * 3 = 15\n",
      "------\n",
      "6 * 1 = 6\n",
      "6 * 2 = 12\n",
      "------\n",
      "7 * 1 = 7\n",
      "------\n"
     ]
    }
   ],
   "source": [
    "## code\n",
    "start = int(input(\"Where do you want to start table: \"))\n",
    "end = int(input(\"Where do you want to end the table: \"))\n",
    "times = int(input(\"How many time do you want to play table 1st: \"))\n",
    "\n",
    "for table in range (start, end+1):\n",
    "    for temp in range(times):\n",
    "        print(f\"{table} * {temp+1} = {table * (temp+1)}\")\n",
    "    times -= 1\n",
    "    print(f\"------\")"
   ]
  },
  {
   "cell_type": "markdown",
   "id": "29940291",
   "metadata": {},
   "source": [
    "10. Write a Python program to print the first 6 terms of a geometric sequence starting \n",
    "with 2 and having a common ratio of 3. \n",
    "The program should output the following sequence: \n",
    "2 6 18 54 162 486   "
   ]
  },
  {
   "cell_type": "code",
   "execution_count": 12,
   "id": "3482cdc1",
   "metadata": {},
   "outputs": [
    {
     "name": "stdout",
     "output_type": "stream",
     "text": [
      "2\n",
      "6\n",
      "18\n",
      "54\n",
      "162\n",
      "486\n"
     ]
    }
   ],
   "source": [
    "## Code\n",
    "a = 2\n",
    "r = 3\n",
    "n = 6\n",
    "\n",
    "for i in range(n):\n",
    "    term = a * (r ** i)\n",
    "    print(term, )"
   ]
  },
  {
   "cell_type": "markdown",
   "id": "cf257660",
   "metadata": {},
   "source": [
    "11. . Write a program that asks the user for a positive integer value. The program should \n",
    "calculate the sum of all the integers from 1 up to the number entered. For example, if \n",
    "the user enters 20, the loop will find the sum of 1, 2, 3, 4, ... 20.  "
   ]
  },
  {
   "cell_type": "code",
   "execution_count": 13,
   "id": "1ee76122",
   "metadata": {},
   "outputs": [
    {
     "name": "stdout",
     "output_type": "stream",
     "text": [
      "The sum of numbers from 1 to 4 is 10\n"
     ]
    }
   ],
   "source": [
    "## Code \n",
    "n = int(input(\"Enter a positive integer: \"))\n",
    "total = 0\n",
    "for i in range(1, n + 1):\n",
    "    total += i\n",
    "print(f\"The sum of numbers from 1 to {n} is {total}\")\n"
   ]
  },
  {
   "cell_type": "markdown",
   "id": "cea00dc9",
   "metadata": {},
   "source": [
    "12.  write a program that takes a positive integer N as input and calculates the sum of \n",
    "the reciprocals of all numbers from 1 up to N. The program should display the final sum."
   ]
  },
  {
   "cell_type": "code",
   "execution_count": 14,
   "id": "571e5705",
   "metadata": {},
   "outputs": [
    {
     "name": "stdout",
     "output_type": "stream",
     "text": [
      "The sum of reciprocals from 1 to 6 is: 2.4499999999999997\n"
     ]
    }
   ],
   "source": [
    "n = int(input(\"Enter a positive integer: \"))\n",
    "total = 0.0\n",
    "for i in range(1, n + 1):\n",
    "    total += 1 / i\n",
    "print(f\"The sum of reciprocals from 1 to {n} is: {total}\")"
   ]
  },
  {
   "cell_type": "markdown",
   "id": "bf6aeb1a",
   "metadata": {},
   "source": [
    "13. Write a program that prompts the user to enter a number and repeats this process 5 \n",
    "times. The program should accumulate the numbers entered and then display the final \n",
    "running total. \n",
    "Sample Output: \n",
    "Enter a number: 10 \n",
    "Enter a number: 15 \n",
    "Enter a number: 35 \n",
    "Enter a number: 40 \n",
    "Enter a number: 50 \n",
    "The final running total is: 150  "
   ]
  },
  {
   "cell_type": "code",
   "execution_count": 15,
   "id": "5a4242aa",
   "metadata": {},
   "outputs": [
    {
     "name": "stdout",
     "output_type": "stream",
     "text": [
      "The final running total is: 25\n"
     ]
    }
   ],
   "source": [
    "## Code \n",
    "total = 0\n",
    "for i in range(5):\n",
    "    num = int(input(\"Enter a number: \"))\n",
    "    total += num\n",
    "print(\"The final running total is:\", total)"
   ]
  },
  {
   "cell_type": "markdown",
   "id": "b786c38e",
   "metadata": {},
   "source": [
    "14.  Write a program that prompts the user to enter a positive integer and calculates its \n",
    "factorial. The factorial of a positive integer 'n' is denoted as 'n!' and is calculated by \n",
    "multiplying all the integers from 1 to 'n' together. For example, the factorial of 5 \n",
    "(denoted as 5!) is calculated as 1 x 2 x 3 x 4 x 5. \n",
    "The program should display the factorial value if the input is a positive number, or \n",
    "display a message stating that the factorial does not exist for negative numbers. \n",
    "Additionally, for an input of zero, the program should output that the factorial of 0 is 1.  "
   ]
  },
  {
   "cell_type": "code",
   "execution_count": 16,
   "id": "ebb4324c",
   "metadata": {},
   "outputs": [
    {
     "name": "stdout",
     "output_type": "stream",
     "text": [
      "The factorial of 5 is 120\n"
     ]
    }
   ],
   "source": [
    "## Code \n",
    "n = int(input(\"Enter a number: \"))\n",
    "if n < 0:\n",
    "    print(\"Factorial does not exist for negative numbers.\")\n",
    "elif n == 0:\n",
    "    print(\"The factorial of 0 is 1.\")\n",
    "else:\n",
    "    factorial = 1\n",
    "    for i in range(1, n + 1):\n",
    "        factorial *= i\n",
    "    print(f\"The factorial of {n} is {factorial}\")"
   ]
  },
  {
   "cell_type": "markdown",
   "id": "e49faad1",
   "metadata": {},
   "source": [
    "15.  Write a Python program that prompts the user to enter a base number and an \n",
    "exponent, and then calculates the power of the base to the exponent. The program \n",
    "should not use the exponentiation operator (**) or the math.pow() function. The \n",
    "program should handle both positive and negative exponents.  "
   ]
  },
  {
   "cell_type": "code",
   "execution_count": 17,
   "id": "daf7cdbd",
   "metadata": {},
   "outputs": [
    {
     "name": "stdout",
     "output_type": "stream",
     "text": [
      "6.0 raised to the power of 7 is: 279936.0\n"
     ]
    }
   ],
   "source": [
    "## Code \n",
    "base = float(input(\"Enter the base number: \"))\n",
    "exponent = int(input(\"Enter the exponent: \"))\n",
    "result = 1\n",
    "if exponent > 0:\n",
    "    for i in range(exponent):\n",
    "        result *= base\n",
    "elif exponent < 0:\n",
    "    for i in range(-exponent):\n",
    "        result *= base\n",
    "    result = 1 / result\n",
    "else:\n",
    "    result = 1  \n",
    "print(f\"{base} raised to the power of {exponent} is: {result}\")"
   ]
  },
  {
   "cell_type": "code",
   "execution_count": null,
   "id": "af883ab0",
   "metadata": {},
   "outputs": [],
   "source": []
  }
 ],
 "metadata": {
  "kernelspec": {
   "display_name": "Python 3",
   "language": "python",
   "name": "python3"
  },
  "language_info": {
   "codemirror_mode": {
    "name": "ipython",
    "version": 3
   },
   "file_extension": ".py",
   "mimetype": "text/x-python",
   "name": "python",
   "nbconvert_exporter": "python",
   "pygments_lexer": "ipython3",
   "version": "3.13.2"
  }
 },
 "nbformat": 4,
 "nbformat_minor": 5
}
