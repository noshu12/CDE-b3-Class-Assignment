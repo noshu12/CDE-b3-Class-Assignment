{
 "cells": [
  {
   "cell_type": "markdown",
   "id": "9c9c99ec",
   "metadata": {},
   "source": [
    "1.  Write a program that accepts a list from user and print the alternate element of list."
   ]
  },
  {
   "cell_type": "code",
   "execution_count": 4,
   "id": "cd4c70cb",
   "metadata": {},
   "outputs": [
    {
     "name": "stdout",
     "output_type": "stream",
     "text": [
      "Alternate elements are:\n",
      "arham\n",
      "noushad\n",
      "bnah\n"
     ]
    }
   ],
   "source": [
    "## Code\n",
    "user =input(\"Enter element separated by space\")\n",
    "my_list = user.split()\n",
    "print(\"Alternate elements are:\")\n",
    "for i in range(0, len(my_list), 2):\n",
    "    print(my_list[i])"
   ]
  },
  {
   "cell_type": "markdown",
   "id": "be5f8712",
   "metadata": {},
   "source": [
    "2. Write a program that accepts a list from user. Your program should reverse the content of list and \n",
    "display it. Do not use reverse() method. "
   ]
  },
  {
   "cell_type": "code",
   "execution_count": 9,
   "id": "a9d4519e",
   "metadata": {},
   "outputs": [
    {
     "name": "stdout",
     "output_type": "stream",
     "text": [
      "['c', 'b', 'a']\n"
     ]
    }
   ],
   "source": [
    "## Code \n",
    "user = input(\"Enter element separated by space\")\n",
    "my_list = user.split() ## split string to list convert\n",
    "reverse = my_list[::-1]\n",
    "print(reverse)"
   ]
  },
  {
   "cell_type": "markdown",
   "id": "9e4bf1bc",
   "metadata": {},
   "source": [
    "3. Find and display the largest number of a list without using built-in function max(). Your program \n",
    "should ask the user to input values in list from keyboard. "
   ]
  },
  {
   "cell_type": "code",
   "execution_count": null,
   "id": "3f257ac1",
   "metadata": {},
   "outputs": [
    {
     "name": "stdout",
     "output_type": "stream",
     "text": [
      "Your list is: [1, 2, 3, 4, 5, 6]\n",
      "Largest number is: 6\n"
     ]
    }
   ],
   "source": [
    "## Code\n",
    "user_input = input(\"Enter numbers separated by space: \")\n",
    "parts = user_input.split() # First split into list of strings\n",
    "my_list = list(map(int, parts)) # Convert using map()\n",
    "print(\"Your list is:\", my_list)\n",
    "largest = my_list[0]\n",
    "for num in my_list:  # Compare each element\n",
    "    if num > largest:\n",
    "        largest = num\n",
    "print(\"Largest number is:\", largest)\n",
    "\n"
   ]
  },
  {
   "cell_type": "markdown",
   "id": "4b96b425",
   "metadata": {},
   "source": [
    "4. . Write a program that rotates the element of a list so that the element at the first index moves to the \n",
    "second index, the element in the second index moves to the third index, etc., and the element in the last \n",
    "index moves to the first index.   "
   ]
  },
  {
   "cell_type": "code",
   "execution_count": 15,
   "id": "f2b728ff",
   "metadata": {},
   "outputs": [
    {
     "name": "stdout",
     "output_type": "stream",
     "text": [
      "['furqan', 'arham', 'hammad', 'noushad']\n"
     ]
    }
   ],
   "source": [
    "## Code\n",
    "lst =[\"arham\",\"hammad\",\"noushad\",\"furqan\"]\n",
    "names = [lst[-1]] + lst[:-1]\n",
    "print(names)\n",
    "\n"
   ]
  },
  {
   "cell_type": "markdown",
   "id": "2cbf4e20",
   "metadata": {},
   "source": [
    "5. Write a program that input a string and ask user to delete a given word from a string.  "
   ]
  },
  {
   "cell_type": "code",
   "execution_count": 19,
   "id": "93324136",
   "metadata": {},
   "outputs": [
    {
     "name": "stdout",
     "output_type": "stream",
     "text": [
      "The original string is  arham ul haq sheikh\n",
      "String after deletion: arham ul  sheikh\n"
     ]
    }
   ],
   "source": [
    "## Code\n",
    "text = input(\"Enter a string: \")\n",
    "word = input(\"Enter the word you want to delete: \")\n",
    "print(\"The original string is \",text)\n",
    "new_text = text.replace(word, \"\")  ### Replace that word with empty string\n",
    "print(\"String after deletion:\", new_text.strip()) ## strip remove the extra space pr any character from the beginning and end\n",
    "\n"
   ]
  },
  {
   "cell_type": "markdown",
   "id": "dc30c5a4",
   "metadata": {},
   "source": [
    "6. Write a program that reads a string from the user containing a date in the form mm/dd/yyyy. It \n",
    "should print the date in the form March 12, 2021.  "
   ]
  },
  {
   "cell_type": "code",
   "execution_count": 21,
   "id": "d56e262b",
   "metadata": {},
   "outputs": [
    {
     "name": "stdout",
     "output_type": "stream",
     "text": [
      "March 12, 2021\n"
     ]
    }
   ],
   "source": [
    "## Code \n",
    "from datetime import datetime\n",
    "date_str = input(\"Enter date in mm/dd/yyyy format: \")\n",
    "date_obj = datetime.strptime(date_str, \"%m/%d/%Y\")# Parse the string into a datetime object\n",
    "formatted_date = date_obj.strftime(\"%B %d, %Y\") # Format the date into \"Month day, Year\"\n",
    "print(formatted_date)\n"
   ]
  },
  {
   "cell_type": "markdown",
   "id": "caf35822",
   "metadata": {},
   "source": [
    "7. . Write a program with a function that accepts a string from keyboard and create a new string after \n",
    "converting character of each word capitalized. For instance, if the sentence is \"stop and smell the roses.\" \n",
    "the output should be \"Stop And Smell The Roses\" "
   ]
  },
  {
   "cell_type": "code",
   "execution_count": null,
   "id": "9e36ff57",
   "metadata": {},
   "outputs": [
    {
     "name": "stdout",
     "output_type": "stream",
     "text": [
      "Converted string: I Am Arham\n"
     ]
    }
   ],
   "source": [
    "## Code \n",
    "def capitalize_words(sentence):\n",
    "    words = sentence.split()  # split into words, capitalize each, and join back\n",
    "    new_words = [word.capitalize() for word in words]\n",
    "    return \" \".join(new_words)  ## takes that list and joins all elements into a single string, with a space (\" \") in between each word\n",
    "\n",
    "text = input(\"Enter a sentence: \")\n",
    "result = capitalize_words(text)\n",
    "print(\"Converted string:\", result)\n"
   ]
  },
  {
   "cell_type": "markdown",
   "id": "a2249880",
   "metadata": {},
   "source": [
    "8.  Find the sum of each row of matrix of size m x n."
   ]
  },
  {
   "cell_type": "code",
   "execution_count": 24,
   "id": "070abdba",
   "metadata": {},
   "outputs": [
    {
     "name": "stdout",
     "output_type": "stream",
     "text": [
      "Sum of row 1 = 9\n",
      "Sum of row 2 = 9\n"
     ]
    }
   ],
   "source": [
    "# Input matrix size\n",
    "m = int(input(\"Enter number of rows: \"))\n",
    "n = int(input(\"Enter number of columns: \"))\n",
    "# Create matrix\n",
    "matrix = []\n",
    "for i in range(m):\n",
    "    row = list(map(int, input(f\"Enter {n} numbers for row {i+1} separated by space: \").split()))\n",
    "    matrix.append(row)\n",
    "for i in range(m):   # Calculate row sums\n",
    "    row_sum = sum(matrix[i])\n",
    "    print(f\"Sum of row {i+1} = {row_sum}\")\n"
   ]
  },
  {
   "cell_type": "markdown",
   "id": "030b1265",
   "metadata": {},
   "source": [
    "9. add two matrix"
   ]
  },
  {
   "cell_type": "code",
   "execution_count": 4,
   "id": "d990b514",
   "metadata": {},
   "outputs": [
    {
     "name": "stdout",
     "output_type": "stream",
     "text": [
      "Matrix Addition:\n",
      "[8, 10, 12]\n",
      "[5, 7, 9]\n"
     ]
    }
   ],
   "source": [
    "\n",
    "A = [\n",
    "    [1, 2, 3],\n",
    "    [4, 5, 6]\n",
    "]\n",
    "B = [\n",
    "    [7, 8, 9],\n",
    "    [1, 2, 3]\n",
    "]\n",
    "result = []\n",
    "for i in range(len(A)):\n",
    "    row = []\n",
    "    for j in range(len(A[0])):\n",
    "        row.append(A[i][j] + B[i][j])\n",
    "    result.append(row)\n",
    "print(\"Matrix Addition:\")\n",
    "for r in result:\n",
    "    print(r)\n"
   ]
  },
  {
   "cell_type": "markdown",
   "id": "af3cbcc4",
   "metadata": {},
   "source": [
    "10. multiply two matrix"
   ]
  },
  {
   "cell_type": "code",
   "execution_count": 5,
   "id": "b8765d18",
   "metadata": {},
   "outputs": [
    {
     "name": "stdout",
     "output_type": "stream",
     "text": [
      "Matrix Multiplication:\n",
      "[58, 64]\n",
      "[139, 154]\n"
     ]
    }
   ],
   "source": [
    "## Code \n",
    "## TASK - 10\n",
    "\n",
    "A = [\n",
    "    [1, 2, 3],\n",
    "    [4, 5, 6]\n",
    "]\n",
    "B = [\n",
    "    [7, 8],\n",
    "    [9, 10],\n",
    "    [11, 12]\n",
    "]\n",
    "result = [[0 for _ in range(len(B[0]))] for _ in range(len(A))]\n",
    "for i in range(len(A)):\n",
    "    for j in range(len(B[0])):\n",
    "        for k in range(len(B)):\n",
    "            result[i][j] += A[i][k] * B[k][j]\n",
    "print(\"Matrix Multiplication:\")\n",
    "for r in result:\n",
    "    print(r)"
   ]
  },
  {
   "cell_type": "code",
   "execution_count": null,
   "id": "32221f4c",
   "metadata": {},
   "outputs": [],
   "source": []
  }
 ],
 "metadata": {
  "kernelspec": {
   "display_name": "Python 3",
   "language": "python",
   "name": "python3"
  },
  "language_info": {
   "codemirror_mode": {
    "name": "ipython",
    "version": 3
   },
   "file_extension": ".py",
   "mimetype": "text/x-python",
   "name": "python",
   "nbconvert_exporter": "python",
   "pygments_lexer": "ipython3",
   "version": "3.13.2"
  }
 },
 "nbformat": 4,
 "nbformat_minor": 5
}
